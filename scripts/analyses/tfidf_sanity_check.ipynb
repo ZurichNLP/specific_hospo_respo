{
 "cells": [
  {
   "cell_type": "code",
   "execution_count": 1,
   "id": "a1a169df",
   "metadata": {},
   "outputs": [
    {
     "name": "stderr",
     "output_type": "stream",
     "text": [
      "/mnt/storage/clwork/users/kew/INSTALLS/anaconda3/envs/respondelligent/lib/python3.8/site-packages/tqdm/std.py:670: FutureWarning: The Panel class is removed from pandas. Accessing it from the top-level namespace will also be removed in the next version\n",
      "  from pandas import Panel\n"
     ]
    }
   ],
   "source": [
    "%matplotlib inline\n",
    "from typing import List, Dict, Tuple\n",
    "from collections import Counter\n",
    "\n",
    "import pandas as pd\n",
    "pd.set_option('display.max_columns', None)\n",
    "pd.set_option('display.max_rows', 100)\n",
    "pd.set_option('display.max_colwidth', None) # don't truncate cell contents\n",
    "\n",
    "from tqdm.notebook import tqdm\n",
    "tqdm.pandas()\n",
    "\n",
    "import numpy as np\n",
    "import matplotlib.pyplot as plt\n",
    "\n",
    "import spacy\n",
    "\n",
    "# from spacy.tokenizer import Tokenizer\n",
    "from spacy.lang.en import English\n",
    "nlp = spacy.load('/srv/scratch2/kew/spacy_models/en_core_web_sm-2.3.1/en_core_web_sm/en_core_web_sm-2.3.1', disable=[\"tagger\", \"parser\", \"ner\"])\n",
    "\n",
    "from sklearn.feature_extraction.text import TfidfVectorizer, TfidfTransformer\n",
    "\n",
    "import multiprocessing_utils as mp"
   ]
  },
  {
   "cell_type": "code",
   "execution_count": 10,
   "id": "07a870fb",
   "metadata": {},
   "outputs": [
    {
     "name": "stdout",
     "output_type": "stream",
     "text": [
      "[3 3 4 3 2]\n",
      "[1.72502774 1.72502774 1.9619827  1.34164079 1.38733127]\n",
      "[1.57018792 1.57018792 1.41527135 1.22121407 2.00149594]\n"
     ]
    }
   ],
   "source": [
    "counts = ['cat zebra apple', 'cat zebra apple', 'banana lion apple elephant', 'elephant zebra elephant', 'elephant dog']\n",
    "\n",
    "counts_lens = np.array([len(s.split()) for s in counts])\n",
    "print(counts_lens)\n",
    "transformer = TfidfVectorizer(smooth_idf=True, norm='l2')\n",
    "tfidf = transformer.fit_transform(counts)\n",
    "# print(tfidf)\n",
    "# print(transformer.vocabulary_)\n",
    "# print(dir(tfidf))\n",
    "tfidf_array = tfidf.toarray()\n",
    "# print(tfidf_array)\n",
    "# print(tfidf_array.shape)\n",
    "\n",
    "\n",
    "print(tfidf_array.sum(axis=1))\n",
    "print(tfidf_array.sum(axis=1) / np.log(counts_lens))\n",
    "# print(tfidf_array.sum(axis=1)"
   ]
  },
  {
   "cell_type": "code",
   "execution_count": null,
   "id": "fc7e3b10",
   "metadata": {},
   "outputs": [],
   "source": []
  }
 ],
 "metadata": {
  "kernelspec": {
   "display_name": "Python 3",
   "language": "python",
   "name": "python3"
  },
  "language_info": {
   "codemirror_mode": {
    "name": "ipython",
    "version": 3
   },
   "file_extension": ".py",
   "mimetype": "text/x-python",
   "name": "python",
   "nbconvert_exporter": "python",
   "pygments_lexer": "ipython3",
   "version": "3.8.5"
  }
 },
 "nbformat": 4,
 "nbformat_minor": 5
}
