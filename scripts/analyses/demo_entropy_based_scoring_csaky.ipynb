{
 "cells": [
  {
   "cell_type": "markdown",
   "metadata": {},
   "source": [
    "https://github.com/ricsinaruto/NeuralChatbots-DataFiltering/blob/master/code/utils/filtering_demo.ipynb"
   ]
  },
  {
   "cell_type": "code",
   "execution_count": 1,
   "metadata": {},
   "outputs": [],
   "source": [
    "import numpy as np\n",
    "from matplotlib import pyplot as plt\n",
    "import math\n",
    "from collections import Counter\n",
    "from tqdm.notebook import tqdm\n",
    "from pathlib import Path\n",
    "\n",
    "import pandas as pd\n",
    "pd.set_option('display.max_columns', None)\n",
    "pd.set_option('display.max_rows', 100)\n",
    "pd.set_option('display.max_colwidth', None) # don't truncate cell contents\n",
    "\n",
    "from df_utils import *\n",
    "\n",
    "from datasets import load_dataset\n",
    "\n"
   ]
  },
  {
   "cell_type": "code",
   "execution_count": 2,
   "metadata": {},
   "outputs": [],
   "source": [
    "# # run demo on daily dialog\n",
    "# dataset = load_dataset('daily_dialog', split='train')\n",
    "# dataset\n",
    "\n",
    "# sources, targets = [], []\n",
    "# for dialog in tqdm(dataset['dialog']):\n",
    "#     for i in range(len(dialog)-1):\n",
    "#         sources.append(dialog[i].strip())\n",
    "#         targets.append(dialog[i+1].strip())\n",
    "# #         print(i)\n",
    "\n",
    "# print(len(sources))\n",
    "# print(len(targets))"
   ]
  },
  {
   "cell_type": "code",
   "execution_count": 3,
   "metadata": {},
   "outputs": [
    {
     "name": "stdout",
     "output_type": "stream",
     "text": [
      "Index(['domain', 'rating', 'review_author', 'response_author', 'review_clean',\n",
      "       'response_clean', 'sentiment', 'db_internal_id', 'establishment',\n",
      "       'trip_id', 'trip_url', 'country', 'split',\n",
      "       'score:review_response_length_ratio', 'score:response_sentence_length',\n",
      "       'score:genericness_semantic_avg', 'score:genericness_length_ratio',\n",
      "       'score:review_response_wmd', 'rrgen_id', 'trip_review_url',\n",
      "       'trip_review_id'],\n",
      "      dtype='object')\n",
      "500000\n"
     ]
    }
   ],
   "source": [
    "# run demo on review response data\n",
    "data = Path('../data/hotel/500k/trip_hotels.pkl')\n",
    "df = pd.read_pickle(data)\n",
    "df.drop(columns=['Unnamed: 0'], inplace=True)\n",
    "print(df.columns)\n",
    "print(len(df))\n"
   ]
  },
  {
   "cell_type": "code",
   "execution_count": 4,
   "metadata": {},
   "outputs": [],
   "source": [
    "sources = df.review_clean.to_list()\n",
    "targets = df.response_clean.to_list()\n"
   ]
  },
  {
   "cell_type": "code",
   "execution_count": 5,
   "metadata": {},
   "outputs": [
    {
     "data": {
      "text/plain": [
       "'Dear Lucy J, Thank you for sharing your experience with the Trip Advisor community. I am thrilled you enjoyed the amenities and services during your visit to Uptown. Again, thank you for taking the time to write such a lovely review about the hotel. We look forward to welcoming you back in the near future. Sincerely, David Rothwell General Manager'"
      ]
     },
     "execution_count": 5,
     "metadata": {},
     "output_type": "execute_result"
    }
   ],
   "source": [
    "targets[0]"
   ]
  },
  {
   "cell_type": "code",
   "execution_count": 6,
   "metadata": {},
   "outputs": [],
   "source": [
    "#@title Path to the source lines and target lines.\n",
    "# sPath = \"sources.txt\"  #@param {type:\"string\"}\n",
    "# tPath = \"targets.txt\"  #@param {type:\"string\"}"
   ]
  },
  {
   "cell_type": "code",
   "execution_count": 7,
   "metadata": {},
   "outputs": [
    {
     "data": {
      "application/vnd.jupyter.widget-view+json": {
       "model_id": "428af347fe53479eb1babfad173498b4",
       "version_major": 2,
       "version_minor": 0
      },
      "text/plain": [
       "0it [00:00, ?it/s]"
      ]
     },
     "metadata": {},
     "output_type": "display_data"
    },
    {
     "data": {
      "application/vnd.jupyter.widget-view+json": {
       "model_id": "fafb3ba24a57492aa6ce1de8da4f7b66",
       "version_major": 2,
       "version_minor": 0
      },
      "text/plain": [
       "0it [00:00, ?it/s]"
      ]
     },
     "metadata": {},
     "output_type": "display_data"
    }
   ],
   "source": [
    "def build_distribution(data):\n",
    "    # Read data and store it in a list.\n",
    "    if isinstance(data, str):\n",
    "        with open(data) as file:\n",
    "            clean_sentences = [' '.join(s.split()) for s in file]\n",
    "    elif isinstance(data, list):\n",
    "        clean_sentences = data\n",
    "    \n",
    "    # Build a dict of unique sentences storing indexes to the original list.\n",
    "    sentence_dict = {}\n",
    "    for i, sentence in tqdm(enumerate(clean_sentences)):\n",
    "        sentence_dict[sentence] = sentence_dict.get(sentence, [])\n",
    "        sentence_dict[sentence].append(i)\n",
    "      \n",
    "    return sentence_dict, clean_sentences\n",
    "\n",
    "source_distro, sources = build_distribution(sources)\n",
    "target_distro, targets = build_distribution(targets)"
   ]
  },
  {
   "cell_type": "code",
   "execution_count": 9,
   "metadata": {},
   "outputs": [
    {
     "name": "stdout",
     "output_type": "stream",
     "text": [
      "499996\n",
      "<class 'dict'>\n",
      "['Fantastic! ---SEP--- We were treated like royalty during our stay. We actually live in Charlotte but stayed here during a two day event uptown in Charlotte. Staff incredible detail oriented and friendly. Superior service everywhere we looked! Prices are high but you get what you okay for. It was truly a pleasure to stay at such a high quality hotel. Would recommend to everyone!', \"Convenient ---SEP--- The hotel is custom-made for a traveller in transit or anyone who wants to avoid the hassle of catching a flight at Heathrow's Terminal 4 in good time. A tunnel links the hotel to the terminal. From your room, you simply check out and drag your luggage through the tunnel to the departure hall. No hassles. The hotel is clean and the staff are quite friendly and helpful. Next door is the Holiday Inn which shares common elevator with Crowne Plaza. You can have the best of two worlds by also sampling the offerings in the hotel next door. Nice place!\", \"Authentic house, authentic people ---SEP--- Stayed for two nights, my wife and I - her sister and husband who are from Vancouver. all of us approx 60. He wanted an authentic historical setting, plus king bed, etc. We have done a lot of B & B's in Maine over the years so less of an issue for us. I called about a month ahead and they only had one King Bedroom left in the main house, but they had just redone their Coachhouse on the same property so inlaws in main house, my wife and I in Coach house. King Room was the real thing, king bed, propane fireplace, spacious. only modern was bathroom which was redone but with fixtures with a traditional look. very nice. Our 'room' was a one-bedroom apt, very modern looking, open kitchen (fully equiped) king bed, 2 TVs. could have stayed a month and been quite comfortable. Breakfast was two choices which varied each morning (i.e. eggs benedict), plus a yoghurt with fruit and granola, and baked goods. Very pleasant staff who went out of their way to share local knowledge. SIMPLY NICE PEOPLE. Location was in residential area, about three blocks from the waterfront and two blocks from one of the top hundred places to eat in Canada. Staff wisely advised we reserve ahead! It was high season, At first I thought the price was high but it was the same as several other similar establishments. Our west coast inlaws thought it was excellent value. he in particular sets very high standards and could find nothing to complain about. actually he loved it! ** Check out the album in the parlour. It is a pictoral record of the renovation undertaken at the time of purchase.\"]\n"
     ]
    }
   ],
   "source": [
    "print(len(source_distro))\n",
    "print(type(source_distro))\n",
    "print(list(source_distro.keys())[:3])\n",
    "# print(source_distro['Can you do push-ups ?'])"
   ]
  },
  {
   "cell_type": "code",
   "execution_count": 42,
   "metadata": {},
   "outputs": [
    {
     "name": "stdout",
     "output_type": "stream",
     "text": [
      "482758\n",
      "<class 'dict'>\n",
      "[('Dear Lucy J, Thank you for sharing your experience with the Trip Advisor community. I am thrilled you enjoyed the amenities and services during your visit to Uptown. Again, thank you for taking the time to write such a lovely review about the hotel. We look forward to welcoming you back in the near future. Sincerely, David Rothwell General Manager', [0]), ('Dear OYEWOLE O, Thank you for your kind feedback and for choosing The New Crowne Plaza at London Heathrow T4. We are delighted to understand that you found our hotel to be convenient for your journey through London Heathrow Airport. We will share your most positive comments with our dedicated team. Thank you once again and we look forward to welcoming you in the future. Warm Regards, Andrew Brown. General Manager Crowne Plaza London Heathrow T4.', [1]), (\"Jeff, Thank you for taking the time to write such a full review of the inn. It's great that your group got to experience both our new Clark House suites as well as our historic inn. The restoration book is a guest favourite as everyone finds the changes that were made to be very interesting. If you're ever in the area again we hope to have you back with us! Thank you Ben MacMillan\", [2])]\n"
     ]
    }
   ],
   "source": [
    "print(len(target_distro))\n",
    "print(type(target_distro))\n",
    "print(list(target_distro.items())[:3])\n"
   ]
  },
  {
   "cell_type": "code",
   "execution_count": 16,
   "metadata": {},
   "outputs": [
    {
     "data": {
      "application/vnd.jupyter.widget-view+json": {
       "model_id": "378183d3d18146a99ef1e9e33a316e6d",
       "version_major": 2,
       "version_minor": 0
      },
      "text/plain": [
       "  0%|          | 0/499996 [00:00<?, ?it/s]"
      ]
     },
     "metadata": {},
     "output_type": "display_data"
    },
    {
     "data": {
      "application/vnd.jupyter.widget-view+json": {
       "model_id": "32b08549c3d440ca8f8326c98b091f67",
       "version_major": 2,
       "version_minor": 0
      },
      "text/plain": [
       "  0%|          | 0/482758 [00:00<?, ?it/s]"
      ]
     },
     "metadata": {},
     "output_type": "display_data"
    }
   ],
   "source": [
    "# from IPython.core.debugger import set_trace\n",
    "\n",
    "def get_entropies(distro, pairs):\n",
    "    entropies = {}\n",
    "\n",
    "    for sentence, indices in tqdm(list(distro.items())):\n",
    "        # Build a distribution for the current sentence, based on the targets.\n",
    "        distribution = Counter([pairs[i] for i in indices]) # count of unique sources for a given target\n",
    "        num_elements = len(indices) # count of total sources for a given target\n",
    "\n",
    "        # Calculate entropy.\n",
    "        entropy = 0\n",
    "        for frequency in distribution.values():\n",
    "            probability = frequency / num_elements\n",
    "            entropy += probability * math.log(probability, 2)\n",
    "        entropies[sentence] = -entropy\n",
    "\n",
    "#     print(entropies)\n",
    "    return entropies\n",
    "\n",
    "source_entropies = get_entropies(source_distro, targets)\n",
    "target_entropies = get_entropies(target_distro, sources)"
   ]
  },
  {
   "cell_type": "code",
   "execution_count": 49,
   "metadata": {},
   "outputs": [
    {
     "data": {
      "text/plain": [
       "0.7924812503605781"
      ]
     },
     "execution_count": 49,
     "metadata": {},
     "output_type": "execute_result"
    }
   ],
   "source": [
    "0.5 * math.log(3, 2)"
   ]
  },
  {
   "cell_type": "code",
   "execution_count": 61,
   "metadata": {},
   "outputs": [
    {
     "name": "stdout",
     "output_type": "stream",
     "text": [
      "18\n",
      "18\n",
      "4.169925001442313\n"
     ]
    }
   ],
   "source": [
    "\n",
    "sentence, indices = list(target_distro.items())[191]\n",
    "distribution = Counter([sources[i] for i in indices])\n",
    "# print(distribution)\n",
    "print(len(distribution))\n",
    "print(len(indices))\n",
    "num_elements = len(indices)\n",
    "\n",
    "entropy = 0\n",
    "for frequency in distribution.values():\n",
    "    probability = frequency / num_elements\n",
    "    entropy += probability * math.log(probability, 2)\n",
    "print(-entropy)\n"
   ]
  },
  {
   "cell_type": "code",
   "execution_count": 17,
   "metadata": {},
   "outputs": [
    {
     "name": "stdout",
     "output_type": "stream",
     "text": [
      "499996\n",
      "482758\n"
     ]
    }
   ],
   "source": [
    "print(len(source_entropies))\n",
    "print(len(target_entropies))"
   ]
  },
  {
   "cell_type": "code",
   "execution_count": 21,
   "metadata": {},
   "outputs": [
    {
     "data": {
      "text/plain": [
       "[('Fantastic! ---SEP--- We were treated like royalty during our stay. We actually live in Charlotte but stayed here during a two day event uptown in Charlotte. Staff incredible detail oriented and friendly. Superior service everywhere we looked! Prices are high but you get what you okay for. It was truly a pleasure to stay at such a high quality hotel. Would recommend to everyone!',\n",
       "  -0.0),\n",
       " (\"Convenient ---SEP--- The hotel is custom-made for a traveller in transit or anyone who wants to avoid the hassle of catching a flight at Heathrow's Terminal 4 in good time. A tunnel links the hotel to the terminal. From your room, you simply check out and drag your luggage through the tunnel to the departure hall. No hassles. The hotel is clean and the staff are quite friendly and helpful. Next door is the Holiday Inn which shares common elevator with Crowne Plaza. You can have the best of two worlds by also sampling the offerings in the hotel next door. Nice place!\",\n",
       "  -0.0),\n",
       " (\"Authentic house, authentic people ---SEP--- Stayed for two nights, my wife and I - her sister and husband who are from Vancouver. all of us approx 60. He wanted an authentic historical setting, plus king bed, etc. We have done a lot of B & B's in Maine over the years so less of an issue for us. I called about a month ahead and they only had one King Bedroom left in the main house, but they had just redone their Coachhouse on the same property so inlaws in main house, my wife and I in Coach house. King Room was the real thing, king bed, propane fireplace, spacious. only modern was bathroom which was redone but with fixtures with a traditional look. very nice. Our 'room' was a one-bedroom apt, very modern looking, open kitchen (fully equiped) king bed, 2 TVs. could have stayed a month and been quite comfortable. Breakfast was two choices which varied each morning (i.e. eggs benedict), plus a yoghurt with fruit and granola, and baked goods. Very pleasant staff who went out of their way to share local knowledge. SIMPLY NICE PEOPLE. Location was in residential area, about three blocks from the waterfront and two blocks from one of the top hundred places to eat in Canada. Staff wisely advised we reserve ahead! It was high season, At first I thought the price was high but it was the same as several other similar establishments. Our west coast inlaws thought it was excellent value. he in particular sets very high standards and could find nothing to complain about. actually he loved it! ** Check out the album in the parlour. It is a pictoral record of the renovation undertaken at the time of purchase.\",\n",
       "  -0.0),\n",
       " (\"Very handy 'stay and fly' ---SEP--- Newly renovated and clean, comfortable accommodations.Shuttle to the airport around the clock made it easy to 'stay and fly'. Checked pricing at several motels, and this value was by far the best! Would definitely stay here again!\",\n",
       "  -0.0)]"
      ]
     },
     "execution_count": 21,
     "metadata": {},
     "output_type": "execute_result"
    }
   ],
   "source": [
    "list(source_entropies.items())[:4]"
   ]
  },
  {
   "cell_type": "code",
   "execution_count": 26,
   "metadata": {},
   "outputs": [
    {
     "name": "stdout",
     "output_type": "stream",
     "text": [
      "Great property, even better staff! ---SEP--- This review will detail the extraordinary staff we experienced at both Le Meridien and Sheraton Hotel in Charlotte. The bottom line is that they are two excellent properties with a great style, close to the convention center, and our preference in the downtown Charlotte area. Now here are the details of my weeklong stay in downtown Charlotte, where we were fortunate enough to stay at both Le Meridien and Sheraton Hotels. This was a business trip for myself, but my wife was able to join me. The property, the excellent services, and professional staff made it feel more like a vacation. The atmosphere in the lobby and the guest rooms of Le Meridien is swanky and gives the feel and look of the modern world traveler. The seating in the lobby is inviting and stylish and provides a great place to meet up or chat with fellow guests. Andrew, on check-in, was courteous and professional. Even after we checked in he called to make sure the room was suitable for our needs. Mark, the new manager who recently moved from Los Angeles went above and beyond to assist us during my stay. We had an issue with our reservation dates and Mark took it upon himself to solve it, otherwise I would had needed to change hotels. Due to my titanium elite loyalty status and our anniversary, he arranged an exquisite upgrade to a beautiful suite on the 14th floor with a living room, dining area and two full bathrooms. The décor in the suite followed the chique style of the hotel with funky seating and updated wall furnishings. Ron, the concierge manager, was attentive throughout our entire stay. He gave a personal tour of the new Le Meriden lounge which was due to open soon. Ron also surprised us with champagne and a delicious cheese plate on return after a long day. If you stay at either the Sheraton or Le Meridien, the rooftop bar and Evoke lounge are a must see/stop. The strawberry margarita was top notch. The breakfast and dinner options at Social, the downstairs Sheraton restaurant were also exceptional. The Queen City omelet is our recommendation, and the ribeye was cooked exactly as requested. The staff provided friendly and prompt service. Social provides a great late-night dinner option with delicious choices. The Sheraton club lounge in Charlotte, is by far, one of the top 5 club lounges I’ve visited in the United States. Every morning and evening Samantha and Abbey greeted us with a smile, excellent service, and appetizing food and beverage choices. Abbey provided us with great recommendations of things to see and do in Charlotte. It was obvious Abbey genuinely cares for all of her guests and ensures they have a great experience in the club lounge and during their overall stay in Charlotte. She was personable and kindhearted which are two qualities which were evident in all her interactions with her guests. Eugene, who was attending to guests in the lobby, assisted with my luggage during my stay. We had to store our bags in the lobby and he graciously assisted my wife in retrieving some personal items a couple of times. Cherish assisted me with my checkout. She greeted me with a smile and was helpful – a great representative of the service you will receive at the Sheraton Charlotte Hotel. 1.0\n",
      "THE place to stay in charlotte! ---SEP--- Stayed at this hotel for 2 nights and it couldn't have been better! The staff was extremely helpful and friendly, great breakfast and very clean rooms! The lobby is very nice to just hang out and chill. We were in Charlotte for business and pleasure and this hotel was great for that. I would recommend this hotel for any reason you are in charlotte. It truly is the best! 1.0\n",
      "Very excellent location ---SEP--- Not a luxury hotel 4 or 5 stars as that abound in the area,but ... if this very well located and close the beach and every type of restaurant that is in the area. The room for a family of 3 or 4 people is fair and comfortable sufficiently to achieve rest after the long day on the street and being able to sleep very acceptable. Wi-Fi and breakfast, parking $10. By the way the breakfast was very complete, very well made ​​and very varied, had eggs, bacon, sausage, waffles, bread, butter, fruit, juice, yogurt, milk and coffee. The price of the room per night in high season this summer, is payable, normal and acceptable for a family economy just two people. Obviously if we can recommend any doubt. 1.0\n",
      "Restaurant review ---SEP--- Ok, I only had one criticism, so let me start with that. The restaurant doesn’t accept tips via card! This was really disappointing as the service was AMAZING and we didn’t have any cash. Please fix this. Please also tell the staff working on Sunday 18th that they smashed it! Super knowledgeable, friendly, chatty but not intrusive 👌👌👌 The decor is lovely, there were a few brass miner statues that reminded me of the ones my grandad had for long service down the mines. Lovely piece of nostalgia for me. It’s very grand, but not pretentious, you could get super dolled up, or wear jeans and a rugby jersey like I did and nobody would bat an eyelid. Love that. The food was really excellent. 2 starters, roast for 2 and a bottle of wine for £61. Very reasonable for the surroundings and quality! I can’t recommend enough, we’re planning a stay in the hotel next time. Exceeded all expectations, thank you, just let us tip your wonderful staff!! 1.0\n",
      "Thank you very much for your review. We take very seriously, all the reviews from our guests that have stayed to improve the quality of the hospitality service and reinforce in those areas we are applying well to the services of the hotel. We sincerely hope that you come back to the hotel and have a wonderful time in the beautiful city of Fort Lauderdale. 2.0\n",
      "Thank you so much for your recent stay and 5 star review of your experience at the Embassy Suites by Hilton Indianapolis North! We really appreciate guest feedback and you seemed to mention all the aspects that we focus on for a great stay. It's all due to a great staff that we are able to provide such well-maintained guest rooms and common areas along with excellent guest service. We strive to have every guest leave as satisfied as you did. Once again, thanks for the great review and staying with us! We hope you stop through for a visit again your next time through Indianapolis! 6.129283016944973\n",
      "Thank you for taking the time to post your review on Trip Advisor. I am delighted to hear that you enjoyed your stay with us on your recent visit to Limerick. I hope that due to your positive experience we will be able to welcome you back to The George Boutique Hotel in the near future. Kind Regards, Altaf Khan General Manager 5.247927513443589\n",
      "It was lovely to meet you and we really appreciate your feedback. All the very best for the remainder of your travels, Kind regards, Karen & Lee 1.584962500721156\n",
      "Thank you for taking the time to write a review. I am grateful for your feedback about your stay. I look forward to welcoming you back. Kind Regards, Mark Davidson, General Manager. 2.321928094887362\n",
      "Thank you for your review. We truly regret that the accommodations were not what you had expected. Your opinion and satisfaction is very important to us and we are very sorry we were unable to meet your expectations. We continually try to do our very best for all of our guests. 1.584962500721156\n",
      "Dear Guest, Many thanks for the positive comments, I’m happy we were able to make your stay with us so enjoyable. I hope we can welcome you back to the Ibis Budget hotel in Leeds again very soon. Kind regards, Rahul Parikh 1.0\n",
      "Dear Valued Guest, Thank you for your great review left on this website. We were really pleased that we were able to exceed your expectations and make your stay so special. We have shared your feedback with the team and they thank you in return for your kind words. We look forward to welcoming you very soon. Yours sincerely, Sameer Gangoli Front Office Manager Radisson Blu Cardiff 4.906890595608519\n",
      "Dear Guest, Thank you for your excellent review, I am delighted that you enjoyed your stay with us and thank you for your kind comments about our hotel, we can't wait to welcome you back! The next time you are visiting Glasgow please feel free to contact me direct - hazel_galloway@jurysinns.com Kind Regards Hazel Galloway Deputy General Manager 5.832890014164737\n",
      "Thank you, your comments are appreciated and we hope to have the opportunity to welcome you back to Mantra Amphora again soon. Chris and Team 4.169925001442313\n"
     ]
    }
   ],
   "source": [
    "# sum(target_entropies.values())\n",
    "\n",
    "def inspect_entropy_scores(entropy_dict, max_items=10):\n",
    "    cnt = 0\n",
    "    for text, entropy in entropy_dict.items():\n",
    "        if entropy > 0.0:\n",
    "            print(text, entropy)\n",
    "            cnt += 1\n",
    "        if cnt == max_items:\n",
    "            return None\n",
    "\n",
    "inspect_entropy_scores(source_entropies)\n",
    "inspect_entropy_scores(target_entropies)"
   ]
  },
  {
   "cell_type": "code",
   "execution_count": 33,
   "metadata": {},
   "outputs": [
    {
     "name": "stdout",
     "output_type": "stream",
     "text": [
      "17289\n"
     ]
    }
   ],
   "source": [
    "threshold = 1.0\n",
    "cnt = 0\n",
    "\n",
    "tgt_ent = []\n",
    "src_ent = []\n",
    "\n",
    "for source, target in zip(sources, targets):\n",
    "    # Here we can put whatever combination of the entropy thresholds.\n",
    "    # if source_entropies[source] > threshold and target_entropies[target] > threshold:\n",
    "    # Casky et al., 2019 report that identity applied to target entropies is best\n",
    "    if target_entropies[target] > threshold:\n",
    "#         print('SRC', source_entropies[source], source)\n",
    "#         print('TGT', target_entropies[target], target)\n",
    "        cnt += 1\n",
    "print(cnt)"
   ]
  },
  {
   "cell_type": "code",
   "execution_count": 34,
   "metadata": {},
   "outputs": [],
   "source": [
    "df['src_entropy_identity'] = df['review_clean'].apply(lambda x: source_entropies[x])\n",
    "df['tgt_entropy_identity'] = df['response_clean'].apply(lambda x: target_entropies[x])"
   ]
  },
  {
   "cell_type": "code",
   "execution_count": 35,
   "metadata": {},
   "outputs": [
    {
     "data": {
      "text/html": [
       "<div>\n",
       "<style scoped>\n",
       "    .dataframe tbody tr th:only-of-type {\n",
       "        vertical-align: middle;\n",
       "    }\n",
       "\n",
       "    .dataframe tbody tr th {\n",
       "        vertical-align: top;\n",
       "    }\n",
       "\n",
       "    .dataframe thead th {\n",
       "        text-align: right;\n",
       "    }\n",
       "</style>\n",
       "<table border=\"1\" class=\"dataframe\">\n",
       "  <thead>\n",
       "    <tr style=\"text-align: right;\">\n",
       "      <th></th>\n",
       "      <th>domain</th>\n",
       "      <th>rating</th>\n",
       "      <th>review_author</th>\n",
       "      <th>response_author</th>\n",
       "      <th>review_clean</th>\n",
       "      <th>response_clean</th>\n",
       "      <th>sentiment</th>\n",
       "      <th>db_internal_id</th>\n",
       "      <th>establishment</th>\n",
       "      <th>trip_id</th>\n",
       "      <th>trip_url</th>\n",
       "      <th>country</th>\n",
       "      <th>split</th>\n",
       "      <th>score:review_response_length_ratio</th>\n",
       "      <th>score:response_sentence_length</th>\n",
       "      <th>score:genericness_semantic_avg</th>\n",
       "      <th>score:genericness_length_ratio</th>\n",
       "      <th>score:review_response_wmd</th>\n",
       "      <th>rrgen_id</th>\n",
       "      <th>trip_review_url</th>\n",
       "      <th>trip_review_id</th>\n",
       "      <th>src_entropy_identity</th>\n",
       "      <th>tgt_entropy_identity</th>\n",
       "    </tr>\n",
       "  </thead>\n",
       "  <tbody>\n",
       "    <tr>\n",
       "      <th>0</th>\n",
       "      <td>Hotel</td>\n",
       "      <td>5</td>\n",
       "      <td>Lucy J</td>\n",
       "      <td>RCCharlotte</td>\n",
       "      <td>Fantastic! ---SEP--- We were treated like royalty during our stay. We actually live in Charlotte but stayed here during a two day event uptown in Charlotte. Staff incredible detail oriented and friendly. Superior service everywhere we looked! Prices are high but you get what you okay for. It was truly a pleasure to stay at such a high quality hotel. Would recommend to everyone!</td>\n",
       "      <td>Dear Lucy J, Thank you for sharing your experience with the Trip Advisor community. I am thrilled you enjoyed the amenities and services during your visit to Uptown. Again, thank you for taking the time to write such a lovely review about the hotel. We look forward to welcoming you back in the near future. Sincerely, David Rothwell General Manager</td>\n",
       "      <td>3 -1 3</td>\n",
       "      <td>126080</td>\n",
       "      <td>The Ritz-Carlton, Charlotte</td>\n",
       "      <td>1510383</td>\n",
       "      <td>https://www.tripadvisor.com/Hotel_Review-g49022-or530-d1510383-Reviews-The_Ritz_Carlton_Charlotte-Charlotte_North_Carolina.html</td>\n",
       "      <td>US</td>\n",
       "      <td>train</td>\n",
       "      <td>1.600000</td>\n",
       "      <td>5</td>\n",
       "      <td>0.879500</td>\n",
       "      <td>0.400000</td>\n",
       "      <td>4.637085</td>\n",
       "      <td>2329375</td>\n",
       "      <td>https://www.tripadvisor.com/ShowUserReviews-g49022-d1510383-r202056667-The_Ritz_Carlton_Charlotte-Charlotte_North_Carolina.html</td>\n",
       "      <td>202056667</td>\n",
       "      <td>-0.0</td>\n",
       "      <td>-0.0</td>\n",
       "    </tr>\n",
       "    <tr>\n",
       "      <th>1</th>\n",
       "      <td>Hotel</td>\n",
       "      <td>4</td>\n",
       "      <td>OYEWOLE O</td>\n",
       "      <td>CPHIEXManagementTeam</td>\n",
       "      <td>Convenient ---SEP--- The hotel is custom-made for a traveller in transit or anyone who wants to avoid the hassle of catching a flight at Heathrow's Terminal 4 in good time. A tunnel links the hotel to the terminal. From your room, you simply check out and drag your luggage through the tunnel to the departure hall. No hassles. The hotel is clean and the staff are quite friendly and helpful. Next door is the Holiday Inn which shares common elevator with Crowne Plaza. You can have the best of two worlds by also sampling the offerings in the hotel next door. Nice place!</td>\n",
       "      <td>Dear OYEWOLE O, Thank you for your kind feedback and for choosing The New Crowne Plaza at London Heathrow T4. We are delighted to understand that you found our hotel to be convenient for your journey through London Heathrow Airport. We will share your most positive comments with our dedicated team. Thank you once again and we look forward to welcoming you in the future. Warm Regards, Andrew Brown. General Manager Crowne Plaza London Heathrow T4.</td>\n",
       "      <td>2 -2 2</td>\n",
       "      <td>147558</td>\n",
       "      <td>Crowne Plaza London Heathrow T4</td>\n",
       "      <td>14151392</td>\n",
       "      <td>https://www.tripadvisor.co.uk/Hotel_Review-g528813-or495-d14151392-Reviews-Crowne_Plaza_London_Heathrow_T4-Hounslow_Greater_London_England.html</td>\n",
       "      <td>UK</td>\n",
       "      <td>train</td>\n",
       "      <td>1.333333</td>\n",
       "      <td>6</td>\n",
       "      <td>0.829168</td>\n",
       "      <td>0.166667</td>\n",
       "      <td>4.310637</td>\n",
       "      <td>2770320</td>\n",
       "      <td>https://www.tripadvisor.co.uk/ShowUserReviews-g528813-d14151392-r643739102-Crowne_Plaza_London_Heathrow_T4-Hounslow_Greater_London_England.html</td>\n",
       "      <td>643739102</td>\n",
       "      <td>-0.0</td>\n",
       "      <td>-0.0</td>\n",
       "    </tr>\n",
       "    <tr>\n",
       "      <th>2</th>\n",
       "      <td>Hotel</td>\n",
       "      <td>4</td>\n",
       "      <td>Jeff M</td>\n",
       "      <td>fairholminnkeeper</td>\n",
       "      <td>Authentic house, authentic people ---SEP--- Stayed for two nights, my wife and I - her sister and husband who are from Vancouver. all of us approx 60. He wanted an authentic historical setting, plus king bed, etc. We have done a lot of B &amp; B's in Maine over the years so less of an issue for us. I called about a month ahead and they only had one King Bedroom left in the main house, but they had just redone their Coachhouse on the same property so inlaws in main house, my wife and I in Coach house. King Room was the real thing, king bed, propane fireplace, spacious. only modern was bathroom which was redone but with fixtures with a traditional look. very nice. Our 'room' was a one-bedroom apt, very modern looking, open kitchen (fully equiped) king bed, 2 TVs. could have stayed a month and been quite comfortable. Breakfast was two choices which varied each morning (i.e. eggs benedict), plus a yoghurt with fruit and granola, and baked goods. Very pleasant staff who went out of their way to share local knowledge. SIMPLY NICE PEOPLE. Location was in residential area, about three blocks from the waterfront and two blocks from one of the top hundred places to eat in Canada. Staff wisely advised we reserve ahead! It was high season, At first I thought the price was high but it was the same as several other similar establishments. Our west coast inlaws thought it was excellent value. he in particular sets very high standards and could find nothing to complain about. actually he loved it! ** Check out the album in the parlour. It is a pictoral record of the renovation undertaken at the time of purchase.</td>\n",
       "      <td>Jeff, Thank you for taking the time to write such a full review of the inn. It's great that your group got to experience both our new Clark House suites as well as our historic inn. The restoration book is a guest favourite as everyone finds the changes that were made to be very interesting. If you're ever in the area again we hope to have you back with us! Thank you Ben MacMillan</td>\n",
       "      <td>2 -2 2</td>\n",
       "      <td>359345</td>\n",
       "      <td>Fairholm National Historic Inn</td>\n",
       "      <td>269422</td>\n",
       "      <td>https://www.tripadvisor.ca/Hotel_Review-g155023-or230-d269422-Reviews-Fairholm_National_Historic_Inn-Charlottetown_Prince_Edward_Island.html</td>\n",
       "      <td>CA</td>\n",
       "      <td>train</td>\n",
       "      <td>4.400000</td>\n",
       "      <td>5</td>\n",
       "      <td>0.711277</td>\n",
       "      <td>0.200000</td>\n",
       "      <td>4.748927</td>\n",
       "      <td>1652943</td>\n",
       "      <td>https://www.tripadvisor.ca/ShowUserReviews-g155023-d269422-r229185959-Fairholm_National_Historic_Inn-Charlottetown_Prince_Edward_Island.html</td>\n",
       "      <td>229185959</td>\n",
       "      <td>-0.0</td>\n",
       "      <td>-0.0</td>\n",
       "    </tr>\n",
       "    <tr>\n",
       "      <th>3</th>\n",
       "      <td>Hotel</td>\n",
       "      <td>4</td>\n",
       "      <td>rdsnyder961</td>\n",
       "      <td>General M</td>\n",
       "      <td>Very handy 'stay and fly' ---SEP--- Newly renovated and clean, comfortable accommodations.Shuttle to the airport around the clock made it easy to 'stay and fly'. Checked pricing at several motels, and this value was by far the best! Would definitely stay here again!</td>\n",
       "      <td>Thank you, rdsnyder961! We're so happy that we were able to provide you with an excellent experience. We look forward to your next stay here with us!</td>\n",
       "      <td>3 -1 3</td>\n",
       "      <td>665760</td>\n",
       "      <td>La Quinta Inn &amp; Suites by Wyndham Denver Airport Dia</td>\n",
       "      <td>85368</td>\n",
       "      <td>https://www.tripadvisor.com/Hotel_Review-g33388-or290-d85368-Reviews-La_Quinta_Inn_Suites_by_Wyndham_Denver_Airport_Dia-Denver_Colorado.html</td>\n",
       "      <td>US</td>\n",
       "      <td>train</td>\n",
       "      <td>1.333333</td>\n",
       "      <td>3</td>\n",
       "      <td>0.881500</td>\n",
       "      <td>0.333333</td>\n",
       "      <td>4.728153</td>\n",
       "      <td>907612</td>\n",
       "      <td>https://www.tripadvisor.com/ShowUserReviews-g33388-d85368-r567608384-La_Quinta_Inn_Suites_by_Wyndham_Denver_Airport_Dia-Denver_Colorado.html</td>\n",
       "      <td>567608384</td>\n",
       "      <td>-0.0</td>\n",
       "      <td>-0.0</td>\n",
       "    </tr>\n",
       "    <tr>\n",
       "      <th>4</th>\n",
       "      <td>Hotel</td>\n",
       "      <td>3</td>\n",
       "      <td>Ray-Roma</td>\n",
       "      <td>Sobrien_GM</td>\n",
       "      <td>some difficulties ---SEP--- Lovely, historic hotel, (take lots of pictures) nice suite but conference rooms not suitable for people with difficulties with mobility. Good part of town for restaurants. Close to Union Station if you are using trains or GO buses.</td>\n",
       "      <td>Dear Ray-Roma, Thank you for your feedback and for choosing One King West. I am sorry to hear that you found our conference rooms to be unsuitable for people with difficulties with mobility. We do have accessibility plans in place so I am disappointed to hear that an issue arose during your stay. Please email me at gm@onekingwest.com so that I may learn more about the issues you experienced and work towards developing a solution. Again, thank you for your feedback and I hope to hear from you soon. Regards, Steve O'Brien General Manager</td>\n",
       "      <td>2 -2 2</td>\n",
       "      <td>408400</td>\n",
       "      <td>One King West Hotel &amp; Residence</td>\n",
       "      <td>573658</td>\n",
       "      <td>https://www.tripadvisor.ca/Hotel_Review-g155019-or1910-d573658-Reviews-One_King_West_Hotel_Residence-Toronto_Ontario.html</td>\n",
       "      <td>CA</td>\n",
       "      <td>train</td>\n",
       "      <td>0.600000</td>\n",
       "      <td>5</td>\n",
       "      <td>0.688064</td>\n",
       "      <td>0.000000</td>\n",
       "      <td>4.733643</td>\n",
       "      <td>1013061</td>\n",
       "      <td>https://www.tripadvisor.ca/ShowUserReviews-g155019-d573658-r424199835-One_King_West_Hotel_Residence-Toronto_Ontario.html</td>\n",
       "      <td>424199835</td>\n",
       "      <td>-0.0</td>\n",
       "      <td>-0.0</td>\n",
       "    </tr>\n",
       "  </tbody>\n",
       "</table>\n",
       "</div>"
      ],
      "text/plain": [
       "  domain  rating review_author       response_author  \\\n",
       "0  Hotel       5        Lucy J           RCCharlotte   \n",
       "1  Hotel       4     OYEWOLE O  CPHIEXManagementTeam   \n",
       "2  Hotel       4        Jeff M     fairholminnkeeper   \n",
       "3  Hotel       4   rdsnyder961             General M   \n",
       "4  Hotel       3      Ray-Roma            Sobrien_GM   \n",
       "\n",
       "                                                                                                                                                                                                                                                                                                                                                                                                                                                                                                                                                                                                                                                                                                                                                                                                                                                                                                                                                                                                                                                                                                                                                                                                                                                                                                                                                                                                                                                                                                                                                                                                                                                                          review_clean  \\\n",
       "0                                                                                                                                                                                                                                                                                                                                                                                                                                                                                                                                                                                                                                                                                                                                                                                                                                                                                                                                                                                                                                                                                                                                                                                                                                                                                         Fantastic! ---SEP--- We were treated like royalty during our stay. We actually live in Charlotte but stayed here during a two day event uptown in Charlotte. Staff incredible detail oriented and friendly. Superior service everywhere we looked! Prices are high but you get what you okay for. It was truly a pleasure to stay at such a high quality hotel. Would recommend to everyone!   \n",
       "1                                                                                                                                                                                                                                                                                                                                                                                                                                                                                                                                                                                                                                                                                                                                                                                                                                                                                                                                                                                                                                                                                         Convenient ---SEP--- The hotel is custom-made for a traveller in transit or anyone who wants to avoid the hassle of catching a flight at Heathrow's Terminal 4 in good time. A tunnel links the hotel to the terminal. From your room, you simply check out and drag your luggage through the tunnel to the departure hall. No hassles. The hotel is clean and the staff are quite friendly and helpful. Next door is the Holiday Inn which shares common elevator with Crowne Plaza. You can have the best of two worlds by also sampling the offerings in the hotel next door. Nice place!   \n",
       "2  Authentic house, authentic people ---SEP--- Stayed for two nights, my wife and I - her sister and husband who are from Vancouver. all of us approx 60. He wanted an authentic historical setting, plus king bed, etc. We have done a lot of B & B's in Maine over the years so less of an issue for us. I called about a month ahead and they only had one King Bedroom left in the main house, but they had just redone their Coachhouse on the same property so inlaws in main house, my wife and I in Coach house. King Room was the real thing, king bed, propane fireplace, spacious. only modern was bathroom which was redone but with fixtures with a traditional look. very nice. Our 'room' was a one-bedroom apt, very modern looking, open kitchen (fully equiped) king bed, 2 TVs. could have stayed a month and been quite comfortable. Breakfast was two choices which varied each morning (i.e. eggs benedict), plus a yoghurt with fruit and granola, and baked goods. Very pleasant staff who went out of their way to share local knowledge. SIMPLY NICE PEOPLE. Location was in residential area, about three blocks from the waterfront and two blocks from one of the top hundred places to eat in Canada. Staff wisely advised we reserve ahead! It was high season, At first I thought the price was high but it was the same as several other similar establishments. Our west coast inlaws thought it was excellent value. he in particular sets very high standards and could find nothing to complain about. actually he loved it! ** Check out the album in the parlour. It is a pictoral record of the renovation undertaken at the time of purchase.   \n",
       "3                                                                                                                                                                                                                                                                                                                                                                                                                                                                                                                                                                                                                                                                                                                                                                                                                                                                                                                                                                                                                                                                                                                                                                                                                                                                                                                                                                                                           Very handy 'stay and fly' ---SEP--- Newly renovated and clean, comfortable accommodations.Shuttle to the airport around the clock made it easy to 'stay and fly'. Checked pricing at several motels, and this value was by far the best! Would definitely stay here again!   \n",
       "4                                                                                                                                                                                                                                                                                                                                                                                                                                                                                                                                                                                                                                                                                                                                                                                                                                                                                                                                                                                                                                                                                                                                                                                                                                                                                                                                                                                                                  some difficulties ---SEP--- Lovely, historic hotel, (take lots of pictures) nice suite but conference rooms not suitable for people with difficulties with mobility. Good part of town for restaurants. Close to Union Station if you are using trains or GO buses.   \n",
       "\n",
       "                                                                                                                                                                                                                                                                                                                                                                                                                                                                                                                                                  response_clean  \\\n",
       "0                                                                                                                                                                                                  Dear Lucy J, Thank you for sharing your experience with the Trip Advisor community. I am thrilled you enjoyed the amenities and services during your visit to Uptown. Again, thank you for taking the time to write such a lovely review about the hotel. We look forward to welcoming you back in the near future. Sincerely, David Rothwell General Manager   \n",
       "1                                                                                              Dear OYEWOLE O, Thank you for your kind feedback and for choosing The New Crowne Plaza at London Heathrow T4. We are delighted to understand that you found our hotel to be convenient for your journey through London Heathrow Airport. We will share your most positive comments with our dedicated team. Thank you once again and we look forward to welcoming you in the future. Warm Regards, Andrew Brown. General Manager Crowne Plaza London Heathrow T4.   \n",
       "2                                                                                                                                                                Jeff, Thank you for taking the time to write such a full review of the inn. It's great that your group got to experience both our new Clark House suites as well as our historic inn. The restoration book is a guest favourite as everyone finds the changes that were made to be very interesting. If you're ever in the area again we hope to have you back with us! Thank you Ben MacMillan   \n",
       "3                                                                                                                                                                                                                                                                                                                                                                                                          Thank you, rdsnyder961! We're so happy that we were able to provide you with an excellent experience. We look forward to your next stay here with us!   \n",
       "4  Dear Ray-Roma, Thank you for your feedback and for choosing One King West. I am sorry to hear that you found our conference rooms to be unsuitable for people with difficulties with mobility. We do have accessibility plans in place so I am disappointed to hear that an issue arose during your stay. Please email me at gm@onekingwest.com so that I may learn more about the issues you experienced and work towards developing a solution. Again, thank you for your feedback and I hope to hear from you soon. Regards, Steve O'Brien General Manager   \n",
       "\n",
       "  sentiment  db_internal_id  \\\n",
       "0    3 -1 3          126080   \n",
       "1    2 -2 2          147558   \n",
       "2    2 -2 2          359345   \n",
       "3    3 -1 3          665760   \n",
       "4    2 -2 2          408400   \n",
       "\n",
       "                                          establishment   trip_id  \\\n",
       "0                           The Ritz-Carlton, Charlotte   1510383   \n",
       "1                       Crowne Plaza London Heathrow T4  14151392   \n",
       "2                        Fairholm National Historic Inn    269422   \n",
       "3  La Quinta Inn & Suites by Wyndham Denver Airport Dia     85368   \n",
       "4                       One King West Hotel & Residence    573658   \n",
       "\n",
       "                                                                                                                                          trip_url  \\\n",
       "0                  https://www.tripadvisor.com/Hotel_Review-g49022-or530-d1510383-Reviews-The_Ritz_Carlton_Charlotte-Charlotte_North_Carolina.html   \n",
       "1  https://www.tripadvisor.co.uk/Hotel_Review-g528813-or495-d14151392-Reviews-Crowne_Plaza_London_Heathrow_T4-Hounslow_Greater_London_England.html   \n",
       "2     https://www.tripadvisor.ca/Hotel_Review-g155023-or230-d269422-Reviews-Fairholm_National_Historic_Inn-Charlottetown_Prince_Edward_Island.html   \n",
       "3     https://www.tripadvisor.com/Hotel_Review-g33388-or290-d85368-Reviews-La_Quinta_Inn_Suites_by_Wyndham_Denver_Airport_Dia-Denver_Colorado.html   \n",
       "4                        https://www.tripadvisor.ca/Hotel_Review-g155019-or1910-d573658-Reviews-One_King_West_Hotel_Residence-Toronto_Ontario.html   \n",
       "\n",
       "  country  split  score:review_response_length_ratio  \\\n",
       "0      US  train                            1.600000   \n",
       "1      UK  train                            1.333333   \n",
       "2      CA  train                            4.400000   \n",
       "3      US  train                            1.333333   \n",
       "4      CA  train                            0.600000   \n",
       "\n",
       "   score:response_sentence_length  score:genericness_semantic_avg  \\\n",
       "0                               5                        0.879500   \n",
       "1                               6                        0.829168   \n",
       "2                               5                        0.711277   \n",
       "3                               3                        0.881500   \n",
       "4                               5                        0.688064   \n",
       "\n",
       "   score:genericness_length_ratio  score:review_response_wmd  rrgen_id  \\\n",
       "0                        0.400000                   4.637085   2329375   \n",
       "1                        0.166667                   4.310637   2770320   \n",
       "2                        0.200000                   4.748927   1652943   \n",
       "3                        0.333333                   4.728153    907612   \n",
       "4                        0.000000                   4.733643   1013061   \n",
       "\n",
       "                                                                                                                                   trip_review_url  \\\n",
       "0                  https://www.tripadvisor.com/ShowUserReviews-g49022-d1510383-r202056667-The_Ritz_Carlton_Charlotte-Charlotte_North_Carolina.html   \n",
       "1  https://www.tripadvisor.co.uk/ShowUserReviews-g528813-d14151392-r643739102-Crowne_Plaza_London_Heathrow_T4-Hounslow_Greater_London_England.html   \n",
       "2     https://www.tripadvisor.ca/ShowUserReviews-g155023-d269422-r229185959-Fairholm_National_Historic_Inn-Charlottetown_Prince_Edward_Island.html   \n",
       "3     https://www.tripadvisor.com/ShowUserReviews-g33388-d85368-r567608384-La_Quinta_Inn_Suites_by_Wyndham_Denver_Airport_Dia-Denver_Colorado.html   \n",
       "4                         https://www.tripadvisor.ca/ShowUserReviews-g155019-d573658-r424199835-One_King_West_Hotel_Residence-Toronto_Ontario.html   \n",
       "\n",
       "   trip_review_id  src_entropy_identity  tgt_entropy_identity  \n",
       "0       202056667                  -0.0                  -0.0  \n",
       "1       643739102                  -0.0                  -0.0  \n",
       "2       229185959                  -0.0                  -0.0  \n",
       "3       567608384                  -0.0                  -0.0  \n",
       "4       424199835                  -0.0                  -0.0  "
      ]
     },
     "execution_count": 35,
     "metadata": {},
     "output_type": "execute_result"
    }
   ],
   "source": [
    "df.head()"
   ]
  },
  {
   "cell_type": "code",
   "execution_count": 62,
   "metadata": {},
   "outputs": [
    {
     "name": "stdout",
     "output_type": "stream",
     "text": [
      "95.687\n"
     ]
    }
   ],
   "source": [
    "# result of filtering using naive identity method from Csaky et al., 2019\n",
    "# filters on 5% of the data\n",
    "df_filt = df[df['tgt_entropy_identity'] < 1.0]\n",
    "print((len(df_filt) / len(df)) * 100)\n",
    "\n"
   ]
  },
  {
   "cell_type": "code",
   "execution_count": null,
   "metadata": {},
   "outputs": [],
   "source": []
  }
 ],
 "metadata": {
  "kernelspec": {
   "display_name": "Python 3 (ipykernel)",
   "language": "python",
   "name": "python3"
  },
  "language_info": {
   "codemirror_mode": {
    "name": "ipython",
    "version": 3
   },
   "file_extension": ".py",
   "mimetype": "text/x-python",
   "name": "python",
   "nbconvert_exporter": "python",
   "pygments_lexer": "ipython3",
   "version": "3.8.10"
  }
 },
 "nbformat": 4,
 "nbformat_minor": 4
}
