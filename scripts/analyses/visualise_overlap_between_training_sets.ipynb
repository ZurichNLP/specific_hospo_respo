{
 "cells": [
  {
   "cell_type": "markdown",
   "id": "9ab20efc",
   "metadata": {},
   "source": [
    "**NOTE** computing overlap based on string matches in the responses showed that there are a number of exact duplicates in the training data. This means that certain splits contain more duplicate responses than others and the size/amount of overlap differs quite a bit (up to 8K items).\n",
    "\n",
    "If we use the input reviews, or rrgen_ids, the training sets are approximately the same size and overlap is around 50% for most training sets."
   ]
  },
  {
   "cell_type": "code",
   "execution_count": 1,
   "id": "3b2fa4dd",
   "metadata": {},
   "outputs": [],
   "source": [
    "from pathlib import Path\n",
    "import numpy as np\n",
    "from collections import Counter\n",
    "import pprint\n",
    "import matplotlib.pyplot as plt\n",
    "import seaborn as sns"
   ]
  },
  {
   "cell_type": "code",
   "execution_count": 2,
   "id": "51aeeba4",
   "metadata": {},
   "outputs": [],
   "source": [
    "data_path = '../hotel'\n",
    "\n",
    "train_sets = {\n",
    "    'filt_freq_distro_0.0_0.883': 'lex. freq.',\n",
    "#     'filt_response_tfidf_1.37_1.8': 'tgt TF-IDF',\n",
    "    'filt_generic_sent_avg_0.0_0.7': 'sent. avg.',\n",
    "    'filt_tgt_ppl_23.5_50': 'LM PPL',\n",
    "#     'filt_rev_resp_tfidf_0.118_0.6': 'src-tgt TF-IDF',\n",
    "#     'filt_rev_resp_sts_0.51_0.8': 'src-tgt STS',\n",
    "    }"
   ]
  },
  {
   "cell_type": "code",
   "execution_count": 3,
   "id": "ed35feac",
   "metadata": {},
   "outputs": [
    {
     "name": "stdout",
     "output_type": "stream",
     "text": [
      "lex. freq.\n",
      "[('Hello, Thank you for taking the time to review Mantra Lorne. Your feedback '\n",
      "  'has been correlated and will assist us in targeting areas for improvement, '\n",
      "  'so thank you for sharing your experience. Cheers Abraham',\n",
      "  231),\n",
      " ('Thank you for taking the time to complete our guest survey about your '\n",
      "  'recent experience at The Ambassador Hotel & Conference Centre. Your '\n",
      "  'feedback is critical to our continued improvement and success! We hope you '\n",
      "  'will come back and stay with us again soon. Please contact me personally to '\n",
      "  'arrange your next visit so I can ensure your next stay is nothing less than '\n",
      "  'exceptional. Warm Regards, Ashley MacGillivray | Guest Services Manager '\n",
      "  'ashley.macgillivray@ambassadorhotel.com Phone: 613-548-3605 | '\n",
      "  '1-800-267-7880',\n",
      "  70),\n",
      " ('Dear Valued Guest, We thank you for choosing the LaQuinta Inn & Suites '\n",
      "  'Indianapolis Downtown, Your feedback is crucial to us as we strive to excel '\n",
      "  'in every aspect of your stay. We are thrilled to hear that we have '\n",
      "  'accommodated your stay. Our ultimate goal is to meet all of your '\n",
      "  'expectations, as we want to satisfy you. I am thrilled to inform you that '\n",
      "  'we are undergoing renovations to ensure future enjoyment. We do value your '\n",
      "  'loyalty to the LaQuinta brand, as we hope to see you in the near future. If '\n",
      "  'you do have any questions or concerns please do email me at '\n",
      "  'gsmcwexpress@gmail.com. Again, thank you for choosing LaQuinta. Best '\n",
      "  'Regards, Kevin Oleksiyenko Hotel Management Team gsmcwexpress@gmail.com',\n",
      "  64)]\n",
      "\n",
      "sent. avg.\n",
      "[('Hello, Thank you for taking the time to review Mantra Lorne. Your feedback '\n",
      "  'has been correlated and will assist us in targeting areas for improvement, '\n",
      "  'so thank you for sharing your experience. Cheers Abraham',\n",
      "  231),\n",
      " ('Dear Guest, Thank you for your excellent review, I am delighted that you '\n",
      "  'enjoyed your stay. The next time you are visiting Glasgow please feel free '\n",
      "  'to contact me direct - niall_oshaughnessy@jurysinns.com. Regards, Niall '\n",
      "  'O’Shaughnessy Deputy General Manager',\n",
      "  101),\n",
      " ('Hi there, Thanks for taking the time to leave us a review. We really '\n",
      "  'appreciate it. Reviews give us the opportunity to pass on praise were your '\n",
      "  'experience has been good and give us an opportunity to work on the bits '\n",
      "  \"that weren't up to standard. We have taken on all your feedback and will \"\n",
      "  'hard to make sure we can offer the best customer experience in the future. '\n",
      "  'Hope the rest of your travels are spectacular. Cheers, Tom Cooney',\n",
      "  66)]\n",
      "\n",
      "LM PPL\n",
      "[('Hello, Thank you for taking the time to review Mantra Lorne. Your feedback '\n",
      "  'has been correlated and will assist us in targeting areas for improvement, '\n",
      "  'so thank you for sharing your experience. Cheers Abraham',\n",
      "  231),\n",
      " ('Dear Guest, Thank you for staying with us. We work harder than ever to make '\n",
      "  'our guests happy and comfortable especially now that we are a 4 star '\n",
      "  'property under the new brand Clayton Hotel Dublin airport and we appreciate '\n",
      "  'all your feedback always! We would love to be your host again sometime in '\n",
      "  'the future and you can see what new and wonderful things we have done to '\n",
      "  'our hotel. Kind regards, Catherine Roche',\n",
      "  169),\n",
      " ('Thanks for staying with us. We appreciate your feedback!.', 79)]\n",
      "\n"
     ]
    }
   ],
   "source": [
    "def collect_counted_lines(file):\n",
    "    with open(file, 'r', encoding='utf8') as f:\n",
    "        return Counter([line.strip() for line in f])\n",
    "\n",
    "data_responses = {}\n",
    "for k, v in train_sets.items():\n",
    "    id_file = Path(data_path) / k / 'train.response'\n",
    "    data_responses[v] = collect_counted_lines(id_file)\n",
    "    \n",
    "for i, ik in enumerate(data_responses.keys()):\n",
    "    print(ik)\n",
    "    pprint.pprint(data_responses[ik].most_common(3))\n",
    "    print()"
   ]
  },
  {
   "cell_type": "code",
   "execution_count": 4,
   "id": "8271002c",
   "metadata": {},
   "outputs": [],
   "source": [
    "def collect_ids(file):\n",
    "    with open(file, 'r', encoding='utf8') as f:\n",
    "        return set([int(line.strip()) for line in f])\n",
    "\n",
    "data = {}\n",
    "for k, v in train_sets.items():\n",
    "    id_file = Path(data_path) / k / 'train.rrgen_id'\n",
    "    data[v] = collect_ids(id_file)\n",
    "    \n",
    "# for k in data.keys():\n",
    "#     print(len(data[k]))"
   ]
  },
  {
   "cell_type": "code",
   "execution_count": null,
   "id": "f71d44dd",
   "metadata": {},
   "outputs": [],
   "source": []
  },
  {
   "cell_type": "code",
   "execution_count": 5,
   "id": "9ea417e5",
   "metadata": {},
   "outputs": [],
   "source": [
    "m = np.zeros((len(data), len(data)), dtype=np.int32)\n",
    "m_perc = np.zeros((len(data), len(data)), dtype=np.int32)\n",
    "\n",
    "for i, ik in enumerate(data.keys()):\n",
    "    for j, jk in enumerate(data.keys()):\n",
    "#         print(ik, jk)\n",
    "        intersect = data[ik].intersection(data[jk])\n",
    "        m[i][j] = len(intersect)\n",
    "        m_perc[i][j] = round(len(intersect) / len(data[ik]) * 100)\n",
    "        \n",
    "# print(m)\n",
    "# print(m_perc)"
   ]
  },
  {
   "cell_type": "code",
   "execution_count": 6,
   "id": "aafd1c81",
   "metadata": {},
   "outputs": [
    {
     "name": "stdout",
     "output_type": "stream",
     "text": [
      "[[183885     65     57]\n",
      " [119992 182741     57]\n",
      " [105088 103992 181924]]\n"
     ]
    }
   ],
   "source": [
    "# create masks for overlaying the matrices\n",
    "# top-right contains percentage overlap\n",
    "# bottom-left contains raw counts\n",
    "\n",
    "mask_u = np.zeros_like(m)\n",
    "mask_u[np.triu_indices_from(m, 1)] = True\n",
    "mask_l = np.zeros_like(m)\n",
    "mask_l[np.tril_indices_from(m, 0)] = True\n",
    "\n",
    "# print(mask_u)\n",
    "# print(mask_l)\n",
    "\n",
    "m = m * mask_l\n",
    "m_perc = m_perc * mask_u\n",
    "m = m+m_perc\n",
    "print(m)\n"
   ]
  },
  {
   "cell_type": "code",
   "execution_count": null,
   "id": "9df7bdb5",
   "metadata": {},
   "outputs": [],
   "source": []
  },
  {
   "cell_type": "code",
   "execution_count": 15,
   "id": "f38f7198",
   "metadata": {},
   "outputs": [
    {
     "data": {
      "image/png": "[encoded data removed]",
      "text/plain": [
       "<Figure size 432x360 with 1 Axes>"
      ]
     },
     "metadata": {},
     "output_type": "display_data"
    }
   ],
   "source": [
    "# create heatmap plot\n",
    "cm = sns.diverging_palette(220, 20, s=40, l=60, as_cmap=True)\n",
    "with plt.style.context('seaborn-paper'):\n",
    "    sns.set(font_scale=1.4)\n",
    "    f, ax = plt.subplots(figsize=(6, 5))\n",
    "#     print(axes)\n",
    "    sns.heatmap(m, annot=True, fmt=\"d\", cmap=cm, xticklabels=list(data.keys()), yticklabels=list(data.keys()), ax=ax, cbar=False)\n",
    "    plt.yticks(rotation=0)\n",
    "    plt.tight_layout()\n",
    "    plt.savefig('./plots/train_set_overlap_3.pdf', dpi=300)\n",
    "    plt.savefig('./plots/train_set_overlap_3.png', dpi=300)"
   ]
  },
  {
   "cell_type": "code",
   "execution_count": 9,
   "id": "e41cd91f",
   "metadata": {},
   "outputs": [
    {
     "data": {
      "text/plain": [
       "0.5750652562916915"
      ]
     },
     "execution_count": 9,
     "metadata": {},
     "output_type": "execute_result"
    }
   ],
   "source": [
    "105088 / 182741"
   ]
  },
  {
   "cell_type": "code",
   "execution_count": 10,
   "id": "516f76d3",
   "metadata": {},
   "outputs": [
    {
     "data": {
      "text/plain": [
       "0.5716233152305358"
      ]
     },
     "execution_count": 10,
     "metadata": {},
     "output_type": "execute_result"
    }
   ],
   "source": [
    "103992 / 181924"
   ]
  },
  {
   "cell_type": "code",
   "execution_count": 11,
   "id": "cfb4c4f3",
   "metadata": {},
   "outputs": [
    {
     "data": {
      "text/plain": [
       "0.65253827120211"
      ]
     },
     "execution_count": 11,
     "metadata": {},
     "output_type": "execute_result"
    }
   ],
   "source": [
    "119992 / 183885"
   ]
  },
  {
   "cell_type": "code",
   "execution_count": 13,
   "id": "ff2e421f",
   "metadata": {},
   "outputs": [
    {
     "data": {
      "text/plain": [
       "0.5714876145416973"
      ]
     },
     "execution_count": 13,
     "metadata": {},
     "output_type": "execute_result"
    }
   ],
   "source": [
    "105088 / 183885"
   ]
  },
  {
   "cell_type": "code",
   "execution_count": null,
   "id": "9ec0d8a1",
   "metadata": {},
   "outputs": [],
   "source": []
  }
 ],
 "metadata": {
  "kernelspec": {
   "display_name": "Python 3",
   "language": "python",
   "name": "python3"
  },
  "language_info": {
   "codemirror_mode": {
    "name": "ipython",
    "version": 3
   },
   "file_extension": ".py",
   "mimetype": "text/x-python",
   "name": "python",
   "nbconvert_exporter": "python",
   "pygments_lexer": "ipython3",
   "version": "3.8.5"
  }
 },
 "nbformat": 4,
 "nbformat_minor": 5
}
