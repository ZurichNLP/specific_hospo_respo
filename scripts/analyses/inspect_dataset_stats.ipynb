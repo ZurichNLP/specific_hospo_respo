{
 "cells": [
  {
   "cell_type": "code",
   "execution_count": 21,
   "metadata": {},
   "outputs": [],
   "source": [
    "from pathlib import Path\n",
    "import pandas as pd\n",
    "import numpy as np\n",
    "\n",
    "import matplotlib\n",
    "import matplotlib.pyplot as plt\n",
    "import seaborn as sns\n",
    "\n",
    "# matplotlib.rcParams[\"text.usetex\"] = True\n",
    "# matplotlib.rcParams[\"font.family\"] = \"serif\"\n",
    "# # matplotlib.rcParams[\"font.size\"] = \"11\"\n",
    "# sns.set(style='whitegrid', palette='colorblind', color_codes=True, font_scale=1.25)\n",
    "# # textwidth = 5.9 inches\n",
    "# textwith = 150  # mm\n",
    "\n",
    "import matplotlib as mpl\n",
    "mpl.rcParams.update(mpl.rcParamsDefault)\n",
    "\n",
    "fontsize = 11\n",
    "textwidth = 5.9  # inches\n",
    "sns.set_context(\"paper\", font_scale=1.0, rc={'lines.linewidth': 0.75,\n",
    "                                             'axes.linewidth': 0.75,\n",
    "                                             'font.size': fontsize,\n",
    "                                             'axes.labelsize': fontsize,\n",
    "                                             'xtick.labelsize': fontsize,\n",
    "                                             'ytick.labelsize': fontsize,\n",
    "                                             'legend.fontsize': fontsize,\n",
    "                                             'text.usetex': True\n",
    "                                             })"
   ]
  },
  {
   "cell_type": "code",
   "execution_count": 22,
   "metadata": {},
   "outputs": [
    {
     "name": "stdout",
     "output_type": "stream",
     "text": [
      "500000\n",
      "Index(['domain', 'rating', 'review_author', 'response_author', 'review_clean',\n",
      "       'response_clean', 'sentiment', 'db_internal_id', 'establishment',\n",
      "       'trip_id', 'trip_url', 'country', 'split',\n",
      "       'score:review_response_length_ratio', 'score:response_sentence_length',\n",
      "       'score:genericness_semantic_avg', 'score:genericness_length_ratio',\n",
      "       'score:review_response_wmd', 'rrgen_id', 'trip_review_url',\n",
      "       'trip_review_id', 'score:genericness_sent_level_sts_avg',\n",
      "       'score:response_text_ppl', 'score:response_freq_distro_ratio',\n",
      "       'score:response_tfidf', 'score:rev_resp_tfidf', 'score:rev_resp_sts'],\n",
      "      dtype='object')\n"
     ]
    }
   ],
   "source": [
    "# load hospo_respo data\n",
    "\n",
    "data_dir = Path('../../data/hotel/500k')\n",
    "scored_data = [\n",
    "    'trip_hotels.pkl',\n",
    "    'trip_hotels.gen_sts_scores.pkl',\n",
    "    'trip_hotels.response_ppl_scores.pkl',\n",
    "    'trip_hotels.zipf_dist_scores.pkl',\n",
    "    'trip_hotels.response_tfidf_scores_norm.pkl',\n",
    "    'trip_hotels.rev_resp_tfidf_scores.pkl',\n",
    "    'trip_hotels.rev_resp_sts_scores.pkl',\n",
    "    ]\n",
    "\n",
    "hospo_data = pd.concat([pd.read_pickle(data_dir / f) for f in scored_data], axis=1)\n",
    "print(len(hospo_data))\n",
    "hospo_data.drop(columns=['Unnamed: 0'], inplace=True)\n",
    "# df.to_csv('../hotel/500k/trip_hotels.scored.csv')\n",
    "print(hospo_data.columns)"
   ]
  },
  {
   "cell_type": "code",
   "execution_count": 23,
   "metadata": {},
   "outputs": [
    {
     "name": "stdout",
     "output_type": "stream",
     "text": [
      "308380\n",
      "Index(['app', 'rating', 'date', 'unk', 'review', 'response', 'response_date',\n",
      "       'sentiment', 'category', 'split'],\n",
      "      dtype='object')\n",
      "train    278374\n",
      "test      15404\n",
      "valid     14602\n",
      "Name: split, dtype: int64\n"
     ]
    }
   ],
   "source": [
    "app_data_train = Path('../../data/apps/rrgen_train_data.txt')\n",
    "app_data_test = Path('../../data/apps/rrgen_test_data.txt')\n",
    "app_data_valid = Path('../../data/apps/rrgen_valid_data.txt')\n",
    "# load csv file with special delimiters (***) and no header and extract the 6th column\n",
    "app_splits = []\n",
    "for split in ['train', 'test', 'valid']:\n",
    "    app_data = Path(f'../../data/apps/rrgen_{split}_data.txt')\n",
    "    df = pd.read_csv(app_data, sep='\\*\\*\\*', header=None, index_col=False, names=['app', 'rating', 'date', 'unk', 'review', 'response', 'response_date', 'sentiment', 'category'], engine='python')\n",
    "    df['split'] = split\n",
    "    app_splits.append(df)\n",
    "\n",
    "app_data = pd.concat(app_splits)\n",
    "print(len(app_data))\n",
    "print(app_data.columns)\n",
    "print(app_data['split'].value_counts())\n",
    "\n",
    "# # load apps data from pickle\n",
    "# app_data = pd.read_pickle('../../data/apps/src-tgt/data.pkl')\n",
    "# print(len(app_data))\n",
    "# print(app_data.columns)"
   ]
  },
  {
   "cell_type": "code",
   "execution_count": 24,
   "metadata": {},
   "outputs": [
    {
     "name": "stdout",
     "output_type": "stream",
     "text": [
      "train\n",
      "{1: 0.31453009260922354, 2: 0.1026029729787983, 3: 0.1837132778204861, 4: 0.13357210084275112, 5: 0.2655815557487409}\n",
      "test\n",
      "{1: 0.31219163853544535, 2: 0.10198649701376265, 3: 0.18079719553362764, 4: 0.13795118151129576, 5: 0.2670734874058686}\n",
      "valid\n",
      "{1: 0.31653198192028487, 2: 0.10368442679085056, 3: 0.1792220243802219, 4: 0.13429667168880977, 5: 0.2662648952198329}\n",
      "all\n",
      "{1: 0.3145080744535962, 2: 0.10262338673065698, 3: 0.18335495168298852, 4: 0.13382515078798884, 5: 0.26568843634476946}\n",
      "train\n",
      "{1: 0.04170376603969651, 2: 0.0518132989317601, 3: 0.11154680516112415, 4: 0.25630208252380837, 5: 0.5386340473436109}\n",
      "valid\n",
      "{1: 0.04177210105635217, 2: 0.05173314053902076, 3: 0.11274450737036591, 4: 0.25637627023336146, 5: 0.5373739808008997}\n",
      "test\n",
      "{1: 0.04184184993531695, 2: 0.05154430789133247, 3: 0.11153783958602846, 4: 0.25533635187580855, 5: 0.5397396507115135}\n",
      "all\n",
      "{1: 0.041714, 2: 0.051796, 3: 0.111606, 4: 0.256258, 5: 0.538626}\n"
     ]
    }
   ],
   "source": [
    "# for each split, get the distribution of ratings\n",
    "def get_rating_dist(df):\n",
    "    for split in df['split'].unique():\n",
    "        print(split)\n",
    "        split_df = df[df['split'] == split]\n",
    "        print(split_df['rating'].value_counts(normalize=True).sort_index().to_dict())\n",
    "\n",
    "    print('all')\n",
    "    print(df['rating'].value_counts(normalize=True).sort_index().to_dict())\n",
    "\n",
    "get_rating_dist(app_data)\n",
    "get_rating_dist(hospo_data)"
   ]
  },
  {
   "cell_type": "code",
   "execution_count": 93,
   "metadata": {},
   "outputs": [
    {
     "data": {
      "image/png": "[encoded data removed]",
      "text/plain": [
       "<Figure size 590x295 with 2 Axes>"
      ]
     },
     "metadata": {},
     "output_type": "display_data"
    }
   ],
   "source": [
    "# plot the distribution of ratings\n",
    "\n",
    "sns.set(style='whitegrid', palette='colorblind')\n",
    "\n",
    "# plot a single figure with multiple axes for both distributions\n",
    "fig, ax = plt.subplots(1, 2, figsize=(textwidth, textwidth*0.5), sharey=True)\n",
    "\n",
    "# plot normalized count of ratings\n",
    "sns.barplot(x=hospo_data['rating'].value_counts(normalize=True).sort_index().index, y=hospo_data['rating'].value_counts(normalize=True).sort_index().values, ax=ax[0])\n",
    "ax[0].set_title('Hospitality')\n",
    "ax[0].set_xlabel('')\n",
    "ax[0].set_ylabel('Proportion')\n",
    "\n",
    "# plot normalized count of ratings\n",
    "sns.barplot(x=app_data['rating'].value_counts(normalize=True).sort_index().index, y=app_data['rating'].value_counts(normalize=True).sort_index().values, ax=ax[1])\n",
    "ax[1].set_title('Mobile Apps')\n",
    "ax[1].set_xlabel('')\n",
    "\n",
    "# shared x label\n",
    "fig.text(0.55, 0, 'Review ratings', ha='center')\n",
    "\n",
    "plt.tight_layout()\n",
    "plt.savefig('/home/user/kew/projects/diss_figs/rrgen_hotel_app_rating_dist.pdf', dpi=300, bbox_inches='tight', pad_inches=0.1)\n",
    "plt.savefig('/home/user/kew/projects/diss_figs/rrgen_hotel_app_rating_dist.png', dpi=300, bbox_inches='tight', pad_inches=0.1)\n"
   ]
  },
  {
   "cell_type": "code",
   "execution_count": 51,
   "metadata": {},
   "outputs": [
    {
     "name": "stdout",
     "output_type": "stream",
     "text": [
      "7502\n",
      "4125\n",
      "4090\n",
      "4084\n",
      "4037\n"
     ]
    }
   ],
   "source": [
    "# check whether establishments overlap between train, test, validation splits\n",
    "\n",
    "# get train subset\n",
    "\n",
    "\n",
    "# get the unique establishments in each split\n",
    "train_est = set(hospo_data[hospo_data['split'] == 'train']['establishment'].tolist())\n",
    "test_est = set(hospo_data[hospo_data['split'] == 'test']['establishment'].tolist())\n",
    "valid_est = set(hospo_data[hospo_data['split'] == 'valid']['establishment'].tolist())\n",
    "\n",
    "print(len(train_est))\n",
    "print(len(test_est))\n",
    "print(len(valid_est))\n",
    "\n",
    "print(len(train_est.intersection(test_est)))\n",
    "print(len(train_est.intersection(valid_est)))"
   ]
  },
  {
   "cell_type": "code",
   "execution_count": 52,
   "metadata": {},
   "outputs": [
    {
     "name": "stderr",
     "output_type": "stream",
     "text": [
      "100%|██████████| 500000/500000 [09:57<00:00, 836.72it/s]\n",
      "100%|██████████| 500000/500000 [05:55<00:00, 1407.48it/s]\n"
     ]
    }
   ],
   "source": [
    "from sacremoses import MosesTokenizer\n",
    "from tqdm import tqdm\n",
    "\n",
    "tokenizer = MosesTokenizer(lang='en')\n",
    "\n",
    "def tokenize_text(text):\n",
    "    \"\"\"\n",
    "    Given a text string, return a new string with whitespace delim tokens.\n",
    "    \"\"\"\n",
    "    return tokenizer.tokenize(text, return_str=True).lower()\n",
    "\n",
    "# tokenize the hospo reviews\n",
    "hospo_data['review_tokens'] = list(tqdm(map(tokenize_text, hospo_data['review_clean'].tolist()), total=len(hospo_data)))\n",
    "hospo_data['response_tokens'] = list(tqdm(map(tokenize_text, hospo_data['response_clean'].tolist()), total=len(hospo_data)))\n"
   ]
  },
  {
   "cell_type": "code",
   "execution_count": 56,
   "metadata": {},
   "outputs": [],
   "source": [
    "# plot the distribution of review lengths between the two datasets\n",
    "app_data['review_len'] = app_data['review'].apply(lambda x: len(x.split()))\n",
    "hospo_data['review_len'] = hospo_data['review_tokens'].apply(lambda x: len(x.split()))\n",
    "app_data['response_len'] = app_data['response'].apply(lambda x: len(x.split()))\n",
    "hospo_data['response_len'] = hospo_data['response_tokens'].apply(lambda x: len(x.split()))\n",
    "\n",
    "# save the dataframes for later use\n",
    "hospo_data.to_pickle('/srv/scratch1/kew/diss_data/hospo_data_scored.pkl')\n",
    "app_data.to_pickle('/srv/scratch1/kew/diss_data/app_data_original.pkl')"
   ]
  },
  {
   "cell_type": "code",
   "execution_count": 74,
   "metadata": {},
   "outputs": [],
   "source": [
    "# sample hospo data to match app data\n",
    "hospo_data_sample = hospo_data.sample(n=len(app_data), random_state=42)"
   ]
  },
  {
   "cell_type": "code",
   "execution_count": 92,
   "metadata": {},
   "outputs": [
    {
     "data": {
      "image/png": "[encoded data removed]",
      "text/plain": [
       "<Figure size 590x295 with 2 Axes>"
      ]
     },
     "metadata": {},
     "output_type": "display_data"
    }
   ],
   "source": [
    "\n",
    "sns.set(style='whitegrid', palette='colorblind')\n",
    "\n",
    "# plot a single figure with multiple axes for both distributions\n",
    "fig, ax = plt.subplots(1, 2, figsize=(textwidth, textwidth*0.5), sharey=True)\n",
    "\n",
    "colormap = plt.cm.get_cmap('tab10', 10)\n",
    "\n",
    "\n",
    "# plot distribution of review lengths\n",
    "sns.histplot(hospo_data_sample['review_len'], kde=True, stat='probability', ax=ax[0], label='Hospitality', color=colormap(0))\n",
    "sns.histplot(app_data['review_len'], kde=True, stat='probability', ax=ax[0], label='Mobile Apps', color=colormap(1))\n",
    "\n",
    "ax[0].set_title('Reviews')\n",
    "ax[0].set_ylabel('Density')\n",
    "ax[0].set_xlabel('')\n",
    "ax[0].set_xlim(0, 200)\n",
    "ax[0].set_ylim(0, 0.075)\n",
    "\n",
    "# plot distribution of response lengths\n",
    "sns.histplot(hospo_data_sample['response_len'], kde=True, stat='probability',  ax=ax[1], label='Hospitality', color=colormap(0))\n",
    "sns.histplot(app_data['response_len'], kde=True, stat='probability', ax=ax[1], label='Mobile Apps', color=colormap(1))\n",
    "ax[1].set_title('Responses')\n",
    "ax[1].set_ylabel('Density')\n",
    "ax[1].set_xlabel('')\n",
    "ax[1].set_xlim(0, 200)\n",
    "\n",
    "# x-axis label shared\n",
    "fig.text(0.55, 0, 'Token length', ha='center')\n",
    "\n",
    "\n",
    "# legend\n",
    "plt.legend(loc='upper right')\n",
    "\n",
    "# ensure that figsize matches the textwidth\n",
    "plt.tight_layout()\n",
    "\n",
    "plt.savefig('/home/user/kew/projects/diss_figs/rrgen_hotel_app_token_lengths.pdf', dpi=300, bbox_inches='tight', pad_inches=0.1)\n",
    "plt.savefig('/home/user/kew/projects/diss_figs/rrgen_hotel_app_token_lengths.png', dpi=300, bbox_inches='tight', pad_inches=0.1)\n"
   ]
  },
  {
   "cell_type": "code",
   "execution_count": 97,
   "metadata": {},
   "outputs": [
    {
     "name": "stdout",
     "output_type": "stream",
     "text": [
      "count    500000.000000\n",
      "mean        126.833678\n",
      "std         111.515187\n",
      "min           8.000000\n",
      "25%          59.000000\n",
      "50%          90.000000\n",
      "75%         152.000000\n",
      "max        4027.000000\n",
      "Name: review_len, dtype: float64\n",
      "count    500000.000000\n",
      "mean         80.759382\n",
      "std          50.260032\n",
      "min           3.000000\n",
      "25%          50.000000\n",
      "50%          70.000000\n",
      "75%          98.000000\n",
      "max        1588.000000\n",
      "Name: response_len, dtype: float64\n",
      "count    308380.000000\n",
      "mean         16.031121\n",
      "std          21.290605\n",
      "min           1.000000\n",
      "25%           3.000000\n",
      "50%           7.000000\n",
      "75%          20.000000\n",
      "max         200.000000\n",
      "Name: review_len, dtype: float64\n",
      "count    308380.000000\n",
      "mean         48.909971\n",
      "std          17.089620\n",
      "min           1.000000\n",
      "25%          38.000000\n",
      "50%          49.000000\n",
      "75%          64.000000\n",
      "max          97.000000\n",
      "Name: response_len, dtype: float64\n"
     ]
    }
   ],
   "source": [
    "# number of tokens in the reviews and responses\n",
    "# for split in ['train', 'test', 'valid']:\n",
    "#     print(split)\n",
    "#     split_df = hospo_data[hospo_data['split'] == split]\n",
    "#     print(split_df['review_len'].describe())\n",
    "#     print(split_df['response_len'].describe())\n",
    "\n",
    "# print('all')\n",
    "print(hospo_data['review_len'].describe())\n",
    "print(hospo_data['response_len'].describe())\n",
    "\n",
    "print(app_data['review_len'].describe())\n",
    "print(app_data['response_len'].describe())"
   ]
  },
  {
   "cell_type": "code",
   "execution_count": 99,
   "metadata": {},
   "outputs": [
    {
     "name": "stderr",
     "output_type": "stream",
     "text": [
      "100%|██████████| 500000/500000 [01:20<00:00, 6244.85it/s]\n"
     ]
    }
   ],
   "source": [
    "# count the number of sentences in each review\n",
    "\n",
    "from nltk.tokenize import sent_tokenize\n",
    "\n",
    "hospo_data['review_sents'] = list(tqdm(map(sent_tokenize, hospo_data['review_clean'].tolist()), total=len(hospo_data)))\n"
   ]
  },
  {
   "cell_type": "code",
   "execution_count": 101,
   "metadata": {},
   "outputs": [
    {
     "name": "stderr",
     "output_type": "stream",
     "text": [
      "100%|██████████| 500000/500000 [00:52<00:00, 9533.13it/s] \n"
     ]
    }
   ],
   "source": [
    "hospo_data['response_sents'] = list(tqdm(map(sent_tokenize, hospo_data['response_clean'].tolist()), total=len(hospo_data)))"
   ]
  },
  {
   "cell_type": "code",
   "execution_count": 102,
   "metadata": {},
   "outputs": [
    {
     "name": "stdout",
     "output_type": "stream",
     "text": [
      "count    500000.000000\n",
      "mean          7.363910\n",
      "std           5.612717\n",
      "min           1.000000\n",
      "25%           4.000000\n",
      "50%           6.000000\n",
      "75%           9.000000\n",
      "max         252.000000\n",
      "Name: review_sent_len, dtype: float64\n",
      "count    500000.000000\n",
      "mean          4.684288\n",
      "std           2.092976\n",
      "min           1.000000\n",
      "25%           3.000000\n",
      "50%           4.000000\n",
      "75%           6.000000\n",
      "max          75.000000\n",
      "Name: response_sent_len, dtype: float64\n"
     ]
    }
   ],
   "source": [
    "hospo_data['review_sent_len'] = hospo_data['review_sents'].apply(lambda x: len(x))\n",
    "hospo_data['response_sent_len'] = hospo_data['response_sents'].apply(lambda x: len(x))\n",
    "\n",
    "print(hospo_data['review_sent_len'].describe())\n",
    "print(hospo_data['response_sent_len'].describe())"
   ]
  },
  {
   "cell_type": "code",
   "execution_count": 104,
   "metadata": {},
   "outputs": [
    {
     "name": "stderr",
     "output_type": "stream",
     "text": [
      "100%|██████████| 308380/308380 [00:08<00:00, 34986.36it/s]\n",
      "100%|██████████| 308380/308380 [00:23<00:00, 12934.40it/s]\n"
     ]
    },
    {
     "name": "stdout",
     "output_type": "stream",
     "text": [
      "0               [its only support in iphone i think .]\n",
      "1    [this be great app but can you add feature to ...\n",
      "2                                               [ok .]\n",
      "3                                         [its good .]\n",
      "4                                    [i jst hate it .]\n",
      "Name: review_sents, dtype: object\n",
      "count    308380.000000\n",
      "mean          1.755720\n",
      "std           1.569973\n",
      "min           1.000000\n",
      "25%           1.000000\n",
      "50%           1.000000\n",
      "75%           2.000000\n",
      "max          58.000000\n",
      "Name: review_sent_len, dtype: float64\n",
      "count    308380.000000\n",
      "mean          4.420264\n",
      "std           1.751635\n",
      "min           1.000000\n",
      "25%           3.000000\n",
      "50%           5.000000\n",
      "75%           5.000000\n",
      "max          17.000000\n",
      "Name: response_sent_len, dtype: float64\n"
     ]
    }
   ],
   "source": [
    "app_data['review_sents'] = list(tqdm(map(sent_tokenize, app_data['review'].tolist()), total=len(app_data)))\n",
    "app_data['response_sents'] = list(tqdm(map(sent_tokenize, app_data['response'].tolist()), total=len(app_data)))\n",
    "print(app_data['review_sents'].head())\n",
    "\n",
    "app_data['review_sent_len'] = app_data['review_sents'].apply(lambda x: len(x))\n",
    "app_data['response_sent_len'] = app_data['response_sents'].apply(lambda x: len(x))\n",
    "\n",
    "print(app_data['review_sent_len'].describe())\n",
    "print(app_data['response_sent_len'].describe())\n"
   ]
  },
  {
   "cell_type": "code",
   "execution_count": 107,
   "metadata": {},
   "outputs": [
    {
     "name": "stdout",
     "output_type": "stream",
     "text": [
      "train\n",
      "5426477\n",
      "test\n",
      "297922\n",
      "valid\n",
      "299700\n",
      "train\n",
      "1719229\n",
      "test\n",
      "95104\n",
      "valid\n",
      "90217\n"
     ]
    }
   ],
   "source": [
    "# total number of sents in the reviews and responses\n",
    "\n",
    "for split in ['train', 'test', 'valid']:\n",
    "    print(split)\n",
    "    split_df = hospo_data[hospo_data['split'] == split]\n",
    "    print(split_df['review_sent_len'].sum() + split_df['response_sent_len'].sum())\n",
    "\n",
    "for split in ['train', 'test', 'valid']:\n",
    "    print(split)\n",
    "    split_df = app_data[app_data['split'] == split]\n",
    "    print(split_df['review_sent_len'].sum() + split_df['response_sent_len'].sum())\n"
   ]
  },
  {
   "cell_type": "code",
   "execution_count": null,
   "metadata": {},
   "outputs": [],
   "source": []
  }
 ],
 "metadata": {
  "kernelspec": {
   "display_name": "hospo_respo_bart",
   "language": "python",
   "name": "python3"
  },
  "language_info": {
   "codemirror_mode": {
    "name": "ipython",
    "version": 3
   },
   "file_extension": ".py",
   "mimetype": "text/x-python",
   "name": "python",
   "nbconvert_exporter": "python",
   "pygments_lexer": "ipython3",
   "version": "3.8.18"
  }
 },
 "nbformat": 4,
 "nbformat_minor": 2
}
